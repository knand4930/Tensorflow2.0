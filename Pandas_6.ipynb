{
 "cells": [
  {
   "cell_type": "code",
   "execution_count": 1,
   "metadata": {},
   "outputs": [],
   "source": [
    "import pandas as pd"
   ]
  },
  {
   "cell_type": "code",
   "execution_count": 2,
   "metadata": {},
   "outputs": [],
   "source": [
    "import numpy as np"
   ]
  },
  {
   "cell_type": "code",
   "execution_count": 3,
   "metadata": {},
   "outputs": [],
   "source": [
    "df = pd.read_csv('Universities.csv')"
   ]
  },
  {
   "cell_type": "code",
   "execution_count": 4,
   "metadata": {},
   "outputs": [
    {
     "data": {
      "text/plain": [
       "'E:\\\\machine learning\\\\tensorflow_2'"
      ]
     },
     "execution_count": 4,
     "metadata": {},
     "output_type": "execute_result"
    }
   ],
   "source": [
    "pwd"
   ]
  },
  {
   "cell_type": "code",
   "execution_count": 5,
   "metadata": {},
   "outputs": [],
   "source": [
    "df.to_csv('Example.csv', index=True)"
   ]
  },
  {
   "cell_type": "code",
   "execution_count": 6,
   "metadata": {},
   "outputs": [
    {
     "data": {
      "text/html": [
       "<div>\n",
       "<style scoped>\n",
       "    .dataframe tbody tr th:only-of-type {\n",
       "        vertical-align: middle;\n",
       "    }\n",
       "\n",
       "    .dataframe tbody tr th {\n",
       "        vertical-align: top;\n",
       "    }\n",
       "\n",
       "    .dataframe thead th {\n",
       "        text-align: right;\n",
       "    }\n",
       "</style>\n",
       "<table border=\"1\" class=\"dataframe\">\n",
       "  <thead>\n",
       "    <tr style=\"text-align: right;\">\n",
       "      <th></th>\n",
       "      <th>Unnamed: 0</th>\n",
       "      <th>Sector</th>\n",
       "      <th>University</th>\n",
       "      <th>Year</th>\n",
       "      <th>Completions</th>\n",
       "      <th>Geography</th>\n",
       "    </tr>\n",
       "  </thead>\n",
       "  <tbody>\n",
       "    <tr>\n",
       "      <th>0</th>\n",
       "      <td>0</td>\n",
       "      <td>Private for-profit, 2-year</td>\n",
       "      <td>Pima Medical Institute-Las Vegas</td>\n",
       "      <td>2016</td>\n",
       "      <td>591</td>\n",
       "      <td>Nevada</td>\n",
       "    </tr>\n",
       "    <tr>\n",
       "      <th>1</th>\n",
       "      <td>1</td>\n",
       "      <td>Private for-profit, less-than 2-year</td>\n",
       "      <td>Healthcare Preparatory Institute</td>\n",
       "      <td>2016</td>\n",
       "      <td>28</td>\n",
       "      <td>Nevada</td>\n",
       "    </tr>\n",
       "    <tr>\n",
       "      <th>2</th>\n",
       "      <td>2</td>\n",
       "      <td>Private for-profit, less-than 2-year</td>\n",
       "      <td>Milan Institute-Las Vegas</td>\n",
       "      <td>2016</td>\n",
       "      <td>408</td>\n",
       "      <td>Nevada</td>\n",
       "    </tr>\n",
       "    <tr>\n",
       "      <th>3</th>\n",
       "      <td>3</td>\n",
       "      <td>Private for-profit, less-than 2-year</td>\n",
       "      <td>Utah College of Massage Therapy-Vegas</td>\n",
       "      <td>2016</td>\n",
       "      <td>240</td>\n",
       "      <td>Nevada</td>\n",
       "    </tr>\n",
       "    <tr>\n",
       "      <th>4</th>\n",
       "      <td>4</td>\n",
       "      <td>Public, 4-year or above</td>\n",
       "      <td>Western Nevada College</td>\n",
       "      <td>2016</td>\n",
       "      <td>960</td>\n",
       "      <td>Nevada</td>\n",
       "    </tr>\n",
       "    <tr>\n",
       "      <th>...</th>\n",
       "      <td>...</td>\n",
       "      <td>...</td>\n",
       "      <td>...</td>\n",
       "      <td>...</td>\n",
       "      <td>...</td>\n",
       "      <td>...</td>\n",
       "    </tr>\n",
       "    <tr>\n",
       "      <th>202</th>\n",
       "      <td>202</td>\n",
       "      <td>Private for-profit, 2-year</td>\n",
       "      <td>Carrington College-Las Vegas</td>\n",
       "      <td>2012</td>\n",
       "      <td>120</td>\n",
       "      <td>Nevada</td>\n",
       "    </tr>\n",
       "    <tr>\n",
       "      <th>203</th>\n",
       "      <td>203</td>\n",
       "      <td>Public, 4-year or above</td>\n",
       "      <td>Western Nevada College</td>\n",
       "      <td>2012</td>\n",
       "      <td>495</td>\n",
       "      <td>Nevada</td>\n",
       "    </tr>\n",
       "    <tr>\n",
       "      <th>204</th>\n",
       "      <td>204</td>\n",
       "      <td>Private for-profit, 2-year</td>\n",
       "      <td>Nevada Career Institute</td>\n",
       "      <td>2012</td>\n",
       "      <td>101</td>\n",
       "      <td>Nevada</td>\n",
       "    </tr>\n",
       "    <tr>\n",
       "      <th>205</th>\n",
       "      <td>205</td>\n",
       "      <td>Private not-for-profit, 2-year</td>\n",
       "      <td>Expertise Cosmetology Institute</td>\n",
       "      <td>2012</td>\n",
       "      <td>129</td>\n",
       "      <td>Nevada</td>\n",
       "    </tr>\n",
       "    <tr>\n",
       "      <th>206</th>\n",
       "      <td>206</td>\n",
       "      <td>Public, 2-year</td>\n",
       "      <td>Truckee Meadows Community College</td>\n",
       "      <td>2012</td>\n",
       "      <td>1170</td>\n",
       "      <td>Nevada</td>\n",
       "    </tr>\n",
       "  </tbody>\n",
       "</table>\n",
       "<p>207 rows × 6 columns</p>\n",
       "</div>"
      ],
      "text/plain": [
       "     Unnamed: 0                                Sector  \\\n",
       "0             0            Private for-profit, 2-year   \n",
       "1             1  Private for-profit, less-than 2-year   \n",
       "2             2  Private for-profit, less-than 2-year   \n",
       "3             3  Private for-profit, less-than 2-year   \n",
       "4             4               Public, 4-year or above   \n",
       "..          ...                                   ...   \n",
       "202         202            Private for-profit, 2-year   \n",
       "203         203               Public, 4-year or above   \n",
       "204         204            Private for-profit, 2-year   \n",
       "205         205        Private not-for-profit, 2-year   \n",
       "206         206                        Public, 2-year   \n",
       "\n",
       "                                University  Year  Completions Geography  \n",
       "0         Pima Medical Institute-Las Vegas  2016          591    Nevada  \n",
       "1         Healthcare Preparatory Institute  2016           28    Nevada  \n",
       "2                Milan Institute-Las Vegas  2016          408    Nevada  \n",
       "3    Utah College of Massage Therapy-Vegas  2016          240    Nevada  \n",
       "4                   Western Nevada College  2016          960    Nevada  \n",
       "..                                     ...   ...          ...       ...  \n",
       "202           Carrington College-Las Vegas  2012          120    Nevada  \n",
       "203                 Western Nevada College  2012          495    Nevada  \n",
       "204                Nevada Career Institute  2012          101    Nevada  \n",
       "205        Expertise Cosmetology Institute  2012          129    Nevada  \n",
       "206      Truckee Meadows Community College  2012         1170    Nevada  \n",
       "\n",
       "[207 rows x 6 columns]"
      ]
     },
     "execution_count": 6,
     "metadata": {},
     "output_type": "execute_result"
    }
   ],
   "source": [
    "pd.read_csv('Example.csv')"
   ]
  },
  {
   "cell_type": "code",
   "execution_count": 8,
   "metadata": {},
   "outputs": [],
   "source": [
    "# tabels = pd.read_html('https://www.fdic.com/bank/individual/failed/blanklist.html')"
   ]
  },
  {
   "cell_type": "code",
   "execution_count": null,
   "metadata": {},
   "outputs": [],
   "source": []
  },
  {
   "cell_type": "code",
   "execution_count": null,
   "metadata": {},
   "outputs": [],
   "source": []
  },
  {
   "cell_type": "code",
   "execution_count": null,
   "metadata": {},
   "outputs": [],
   "source": []
  }
 ],
 "metadata": {
  "kernelspec": {
   "display_name": "Python 3",
   "language": "python",
   "name": "python3"
  },
  "language_info": {
   "codemirror_mode": {
    "name": "ipython",
    "version": 3
   },
   "file_extension": ".py",
   "mimetype": "text/x-python",
   "name": "python",
   "nbconvert_exporter": "python",
   "pygments_lexer": "ipython3",
   "version": "3.8.3"
  }
 },
 "nbformat": 4,
 "nbformat_minor": 4
}
